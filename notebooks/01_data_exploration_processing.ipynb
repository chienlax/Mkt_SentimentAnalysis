{
 "cells": [
  {
   "cell_type": "code",
   "execution_count": 48,
   "id": "3ab5e40f",
   "metadata": {},
   "outputs": [
    {
     "name": "stdout",
     "output_type": "stream",
     "text": [
      "Loading datasets...\n",
      "Datasets loaded successfully!\n"
     ]
    }
   ],
   "source": [
    "import pandas as pd\n",
    "import numpy as np\n",
    "import matplotlib.pyplot as plt\n",
    "import seaborn as sns\n",
    "%matplotlib inline\n",
    "\n",
    "# Set display options\n",
    "pd.set_option('display.max_columns', None)\n",
    "pd.set_option('display.max_rows', 20)\n",
    "pd.set_option('display.width', 1000)\n",
    "\n",
    "# Load datasets\n",
    "print(\"Loading datasets...\")\n",
    "try:\n",
    "    book_reviews = pd.read_csv('../data/raw/book_reviews/Books_rating.csv', encoding='utf-8-sig')\n",
    "    financial_news = pd.read_csv('../data/raw/financial_news/all-data.csv', \n",
    "                                encoding='latin-1', \n",
    "                                header=None, \n",
    "                                names=['sentiment', 'text'])\n",
    "    print(\"Datasets loaded successfully!\")\n",
    "except Exception as e:\n",
    "    print(f\"Error loading datasets: {e}\")"
   ]
  },
  {
   "cell_type": "code",
   "execution_count": 49,
   "id": "15dbcc4a",
   "metadata": {},
   "outputs": [
    {
     "name": "stdout",
     "output_type": "stream",
     "text": [
      "\n",
      "==== BOOK REVIEWS DATASET ====\n",
      "Dataset shape: (3000000, 10)\n",
      "\n",
      "Columns:\n",
      "['Id', 'Title', 'Price', 'User_id', 'profileName', 'review/helpfulness', 'review/score', 'review/time', 'review/summary', 'review/text']\n",
      "\n",
      "Data types:\n",
      "Id                     object\n",
      "Title                  object\n",
      "Price                 float64\n",
      "User_id                object\n",
      "profileName            object\n",
      "review/helpfulness     object\n",
      "review/score          float64\n",
      "review/time             int64\n",
      "review/summary         object\n",
      "review/text            object\n",
      "dtype: object\n",
      "\n",
      "Sample data:\n"
     ]
    },
    {
     "data": {
      "text/html": [
       "<div>\n",
       "<style scoped>\n",
       "    .dataframe tbody tr th:only-of-type {\n",
       "        vertical-align: middle;\n",
       "    }\n",
       "\n",
       "    .dataframe tbody tr th {\n",
       "        vertical-align: top;\n",
       "    }\n",
       "\n",
       "    .dataframe thead th {\n",
       "        text-align: right;\n",
       "    }\n",
       "</style>\n",
       "<table border=\"1\" class=\"dataframe\">\n",
       "  <thead>\n",
       "    <tr style=\"text-align: right;\">\n",
       "      <th></th>\n",
       "      <th>Id</th>\n",
       "      <th>Title</th>\n",
       "      <th>Price</th>\n",
       "      <th>User_id</th>\n",
       "      <th>profileName</th>\n",
       "      <th>review/helpfulness</th>\n",
       "      <th>review/score</th>\n",
       "      <th>review/time</th>\n",
       "      <th>review/summary</th>\n",
       "      <th>review/text</th>\n",
       "    </tr>\n",
       "  </thead>\n",
       "  <tbody>\n",
       "    <tr>\n",
       "      <th>0</th>\n",
       "      <td>1882931173</td>\n",
       "      <td>Its Only Art If Its Well Hung!</td>\n",
       "      <td>NaN</td>\n",
       "      <td>AVCGYZL8FQQTD</td>\n",
       "      <td>Jim of Oz \"jim-of-oz\"</td>\n",
       "      <td>7/7</td>\n",
       "      <td>4.0</td>\n",
       "      <td>940636800</td>\n",
       "      <td>Nice collection of Julie Strain images</td>\n",
       "      <td>This is only for Julie Strain fans. It's a col...</td>\n",
       "    </tr>\n",
       "    <tr>\n",
       "      <th>1</th>\n",
       "      <td>0826414346</td>\n",
       "      <td>Dr. Seuss: American Icon</td>\n",
       "      <td>NaN</td>\n",
       "      <td>A30TK6U7DNS82R</td>\n",
       "      <td>Kevin Killian</td>\n",
       "      <td>10/10</td>\n",
       "      <td>5.0</td>\n",
       "      <td>1095724800</td>\n",
       "      <td>Really Enjoyed It</td>\n",
       "      <td>I don't care much for Dr. Seuss but after read...</td>\n",
       "    </tr>\n",
       "    <tr>\n",
       "      <th>2</th>\n",
       "      <td>0826414346</td>\n",
       "      <td>Dr. Seuss: American Icon</td>\n",
       "      <td>NaN</td>\n",
       "      <td>A3UH4UZ4RSVO82</td>\n",
       "      <td>John Granger</td>\n",
       "      <td>10/11</td>\n",
       "      <td>5.0</td>\n",
       "      <td>1078790400</td>\n",
       "      <td>Essential for every personal and Public Library</td>\n",
       "      <td>If people become the books they read and if \"t...</td>\n",
       "    </tr>\n",
       "    <tr>\n",
       "      <th>3</th>\n",
       "      <td>0826414346</td>\n",
       "      <td>Dr. Seuss: American Icon</td>\n",
       "      <td>NaN</td>\n",
       "      <td>A2MVUWT453QH61</td>\n",
       "      <td>Roy E. Perry \"amateur philosopher\"</td>\n",
       "      <td>7/7</td>\n",
       "      <td>4.0</td>\n",
       "      <td>1090713600</td>\n",
       "      <td>Phlip Nel gives silly Seuss a serious treatment</td>\n",
       "      <td>Theodore Seuss Geisel (1904-1991), aka &amp;quot;D...</td>\n",
       "    </tr>\n",
       "    <tr>\n",
       "      <th>4</th>\n",
       "      <td>0826414346</td>\n",
       "      <td>Dr. Seuss: American Icon</td>\n",
       "      <td>NaN</td>\n",
       "      <td>A22X4XUPKF66MR</td>\n",
       "      <td>D. H. Richards \"ninthwavestore\"</td>\n",
       "      <td>3/3</td>\n",
       "      <td>4.0</td>\n",
       "      <td>1107993600</td>\n",
       "      <td>Good academic overview</td>\n",
       "      <td>Philip Nel - Dr. Seuss: American IconThis is b...</td>\n",
       "    </tr>\n",
       "  </tbody>\n",
       "</table>\n",
       "</div>"
      ],
      "text/plain": [
       "           Id                           Title  Price         User_id                         profileName review/helpfulness  review/score  review/time                                   review/summary                                        review/text\n",
       "0  1882931173  Its Only Art If Its Well Hung!    NaN   AVCGYZL8FQQTD               Jim of Oz \"jim-of-oz\"                7/7           4.0    940636800           Nice collection of Julie Strain images  This is only for Julie Strain fans. It's a col...\n",
       "1  0826414346        Dr. Seuss: American Icon    NaN  A30TK6U7DNS82R                       Kevin Killian              10/10           5.0   1095724800                                Really Enjoyed It  I don't care much for Dr. Seuss but after read...\n",
       "2  0826414346        Dr. Seuss: American Icon    NaN  A3UH4UZ4RSVO82                        John Granger              10/11           5.0   1078790400  Essential for every personal and Public Library  If people become the books they read and if \"t...\n",
       "3  0826414346        Dr. Seuss: American Icon    NaN  A2MVUWT453QH61  Roy E. Perry \"amateur philosopher\"                7/7           4.0   1090713600  Phlip Nel gives silly Seuss a serious treatment  Theodore Seuss Geisel (1904-1991), aka &quot;D...\n",
       "4  0826414346        Dr. Seuss: American Icon    NaN  A22X4XUPKF66MR     D. H. Richards \"ninthwavestore\"                3/3           4.0   1107993600                           Good academic overview  Philip Nel - Dr. Seuss: American IconThis is b..."
      ]
     },
     "execution_count": 49,
     "metadata": {},
     "output_type": "execute_result"
    }
   ],
   "source": [
    "print(\"\\n==== BOOK REVIEWS DATASET ====\")\n",
    "print(f\"Dataset shape: {book_reviews.shape}\")\n",
    "print(\"\\nColumns:\")\n",
    "print(book_reviews.columns.tolist())\n",
    "print(\"\\nData types:\")\n",
    "print(book_reviews.dtypes)\n",
    "print(\"\\nSample data:\")\n",
    "book_reviews.head()"
   ]
  },
  {
   "cell_type": "code",
   "execution_count": 50,
   "id": "38f34388",
   "metadata": {},
   "outputs": [
    {
     "name": "stdout",
     "output_type": "stream",
     "text": [
      "\n",
      "Missing values in book reviews:\n",
      "Id                          0\n",
      "Title                     208\n",
      "Price                 2518829\n",
      "User_id                561787\n",
      "profileName            561905\n",
      "review/helpfulness          0\n",
      "review/score                0\n",
      "review/time                 0\n",
      "review/summary            407\n",
      "review/text                 8\n",
      "dtype: int64\n",
      "\n",
      "Basic statistics for numeric columns:\n"
     ]
    },
    {
     "data": {
      "text/html": [
       "<div>\n",
       "<style scoped>\n",
       "    .dataframe tbody tr th:only-of-type {\n",
       "        vertical-align: middle;\n",
       "    }\n",
       "\n",
       "    .dataframe tbody tr th {\n",
       "        vertical-align: top;\n",
       "    }\n",
       "\n",
       "    .dataframe thead th {\n",
       "        text-align: right;\n",
       "    }\n",
       "</style>\n",
       "<table border=\"1\" class=\"dataframe\">\n",
       "  <thead>\n",
       "    <tr style=\"text-align: right;\">\n",
       "      <th></th>\n",
       "      <th>Price</th>\n",
       "      <th>review/score</th>\n",
       "      <th>review/time</th>\n",
       "    </tr>\n",
       "  </thead>\n",
       "  <tbody>\n",
       "    <tr>\n",
       "      <th>count</th>\n",
       "      <td>481171.000000</td>\n",
       "      <td>3.000000e+06</td>\n",
       "      <td>3.000000e+06</td>\n",
       "    </tr>\n",
       "    <tr>\n",
       "      <th>mean</th>\n",
       "      <td>21.762656</td>\n",
       "      <td>4.215289e+00</td>\n",
       "      <td>1.132307e+09</td>\n",
       "    </tr>\n",
       "    <tr>\n",
       "      <th>std</th>\n",
       "      <td>26.206541</td>\n",
       "      <td>1.203054e+00</td>\n",
       "      <td>1.493202e+08</td>\n",
       "    </tr>\n",
       "    <tr>\n",
       "      <th>min</th>\n",
       "      <td>1.000000</td>\n",
       "      <td>1.000000e+00</td>\n",
       "      <td>-1.000000e+00</td>\n",
       "    </tr>\n",
       "    <tr>\n",
       "      <th>25%</th>\n",
       "      <td>10.780000</td>\n",
       "      <td>4.000000e+00</td>\n",
       "      <td>9.999072e+08</td>\n",
       "    </tr>\n",
       "    <tr>\n",
       "      <th>50%</th>\n",
       "      <td>14.930000</td>\n",
       "      <td>5.000000e+00</td>\n",
       "      <td>1.128298e+09</td>\n",
       "    </tr>\n",
       "    <tr>\n",
       "      <th>75%</th>\n",
       "      <td>23.950000</td>\n",
       "      <td>5.000000e+00</td>\n",
       "      <td>1.269130e+09</td>\n",
       "    </tr>\n",
       "    <tr>\n",
       "      <th>max</th>\n",
       "      <td>995.000000</td>\n",
       "      <td>5.000000e+00</td>\n",
       "      <td>1.362355e+09</td>\n",
       "    </tr>\n",
       "  </tbody>\n",
       "</table>\n",
       "</div>"
      ],
      "text/plain": [
       "               Price  review/score   review/time\n",
       "count  481171.000000  3.000000e+06  3.000000e+06\n",
       "mean       21.762656  4.215289e+00  1.132307e+09\n",
       "std        26.206541  1.203054e+00  1.493202e+08\n",
       "min         1.000000  1.000000e+00 -1.000000e+00\n",
       "25%        10.780000  4.000000e+00  9.999072e+08\n",
       "50%        14.930000  5.000000e+00  1.128298e+09\n",
       "75%        23.950000  5.000000e+00  1.269130e+09\n",
       "max       995.000000  5.000000e+00  1.362355e+09"
      ]
     },
     "execution_count": 50,
     "metadata": {},
     "output_type": "execute_result"
    }
   ],
   "source": [
    "# Check for missing values in book reviews\n",
    "print(\"\\nMissing values in book reviews:\")\n",
    "print(book_reviews.isnull().sum())\n",
    "\n",
    "# Basic statistics for book reviews\n",
    "print(\"\\nBasic statistics for numeric columns:\")\n",
    "book_reviews.describe()"
   ]
  },
  {
   "cell_type": "code",
   "execution_count": 51,
   "id": "0a699377",
   "metadata": {},
   "outputs": [
    {
     "name": "stdout",
     "output_type": "stream",
     "text": [
      "\n",
      "Distribution of scores in book reviews:\n",
      "score\n",
      "positive    2392951\n",
      "negative     352746\n",
      "neutral      254295\n",
      "Name: count, dtype: int64\n",
      "\n",
      "Distribution of scores in book reviews:\n",
      "score\n",
      "positive    0.797652\n",
      "negative    0.117582\n",
      "neutral     0.084765\n",
      "Name: proportion, dtype: float64\n"
     ]
    }
   ],
   "source": [
    "# Drop the review/text row with null values\n",
    "book_reviews = book_reviews.dropna(subset=['review/text'])\n",
    "\n",
    "# Only keep column review/text and review/score\n",
    "book_reviews = book_reviews[['review/text', 'review/score']]\n",
    "book_reviews.columns = ['text', 'score']\n",
    "\n",
    "# Convert score to numeric, forcing errors to NaN\n",
    "book_reviews['score'] = pd.to_numeric(book_reviews['score'], errors='coerce')\n",
    "\n",
    "# Group 1, 2 review to 'negative', 3 review to 'neutral', and 4, 5 review to 'positive'\n",
    "book_reviews['score'] = book_reviews['score'].apply(lambda x: 'negative' if x in [1, 2] else ('neutral' if x == 3 else 'positive'))\n",
    "\n",
    "# Check the distribution of scores\n",
    "print(\"\\nDistribution of scores in book reviews:\")\n",
    "print(book_reviews['score'].value_counts())\n",
    "print(\"\\nDistribution of scores in book reviews:\")\n",
    "print(book_reviews['score'].value_counts(normalize=True))\n"
   ]
  },
  {
   "cell_type": "code",
   "execution_count": 52,
   "id": "97bf48ad",
   "metadata": {},
   "outputs": [
    {
     "data": {
      "image/png": "[encoded data removed]",
      "text/plain": [
       "<Figure size 1000x600 with 1 Axes>"
      ]
     },
     "metadata": {},
     "output_type": "display_data"
    }
   ],
   "source": [
    "# Explore the distribution of ratings\n",
    "plt.figure(figsize=(10, 6))\n",
    "sns.countplot(x='score', data=book_reviews)\n",
    "plt.title('Distribution of Book Ratings')\n",
    "plt.xlabel('Rating')\n",
    "plt.ylabel('Count')\n",
    "plt.show()\n",
    "\n",
    "# Check the most reviewed books\n",
    "if 'title' in book_reviews.columns:\n",
    "    top_books = book_reviews['title'].value_counts().head(10)\n",
    "    plt.figure(figsize=(12, 6))\n",
    "    top_books.plot(kind='bar')\n",
    "    plt.title('Top 10 Most Reviewed Books')\n",
    "    plt.xlabel('Book Title')\n",
    "    plt.ylabel('Number of Reviews')\n",
    "    plt.xticks(rotation=45, ha='right')\n",
    "    plt.tight_layout()\n",
    "    plt.show()"
   ]
  },
  {
   "cell_type": "code",
   "execution_count": 53,
   "id": "762e4e35",
   "metadata": {},
   "outputs": [
    {
     "name": "stdout",
     "output_type": "stream",
     "text": [
      "\n",
      "==== FINANCIAL NEWS DATASET ====\n",
      "Dataset shape: (4846, 2)\n",
      "\n",
      "Columns:\n",
      "['sentiment', 'text']\n",
      "\n",
      "Data types:\n",
      "sentiment    object\n",
      "text         object\n",
      "dtype: object\n",
      "\n",
      "Sample data:\n"
     ]
    },
    {
     "data": {
      "text/html": [
       "<div>\n",
       "<style scoped>\n",
       "    .dataframe tbody tr th:only-of-type {\n",
       "        vertical-align: middle;\n",
       "    }\n",
       "\n",
       "    .dataframe tbody tr th {\n",
       "        vertical-align: top;\n",
       "    }\n",
       "\n",
       "    .dataframe thead th {\n",
       "        text-align: right;\n",
       "    }\n",
       "</style>\n",
       "<table border=\"1\" class=\"dataframe\">\n",
       "  <thead>\n",
       "    <tr style=\"text-align: right;\">\n",
       "      <th></th>\n",
       "      <th>sentiment</th>\n",
       "      <th>text</th>\n",
       "    </tr>\n",
       "  </thead>\n",
       "  <tbody>\n",
       "    <tr>\n",
       "      <th>0</th>\n",
       "      <td>neutral</td>\n",
       "      <td>According to Gran , the company has no plans t...</td>\n",
       "    </tr>\n",
       "    <tr>\n",
       "      <th>1</th>\n",
       "      <td>neutral</td>\n",
       "      <td>Technopolis plans to develop in stages an area...</td>\n",
       "    </tr>\n",
       "    <tr>\n",
       "      <th>2</th>\n",
       "      <td>negative</td>\n",
       "      <td>The international electronic industry company ...</td>\n",
       "    </tr>\n",
       "    <tr>\n",
       "      <th>3</th>\n",
       "      <td>positive</td>\n",
       "      <td>With the new production plant the company woul...</td>\n",
       "    </tr>\n",
       "    <tr>\n",
       "      <th>4</th>\n",
       "      <td>positive</td>\n",
       "      <td>According to the company 's updated strategy f...</td>\n",
       "    </tr>\n",
       "  </tbody>\n",
       "</table>\n",
       "</div>"
      ],
      "text/plain": [
       "  sentiment                                               text\n",
       "0   neutral  According to Gran , the company has no plans t...\n",
       "1   neutral  Technopolis plans to develop in stages an area...\n",
       "2  negative  The international electronic industry company ...\n",
       "3  positive  With the new production plant the company woul...\n",
       "4  positive  According to the company 's updated strategy f..."
      ]
     },
     "execution_count": 53,
     "metadata": {},
     "output_type": "execute_result"
    }
   ],
   "source": [
    "print(\"\\n==== FINANCIAL NEWS DATASET ====\")\n",
    "print(f\"Dataset shape: {financial_news.shape}\")\n",
    "print(\"\\nColumns:\")\n",
    "print(financial_news.columns.tolist())\n",
    "print(\"\\nData types:\")\n",
    "print(financial_news.dtypes)\n",
    "print(\"\\nSample data:\")\n",
    "financial_news.head()"
   ]
  },
  {
   "cell_type": "code",
   "execution_count": 54,
   "id": "04c90dae",
   "metadata": {},
   "outputs": [
    {
     "name": "stdout",
     "output_type": "stream",
     "text": [
      "\n",
      "Missing values in financial news:\n",
      "sentiment    0\n",
      "text         0\n",
      "dtype: int64\n",
      "\n",
      "Basic statistics for numeric columns (if any):\n"
     ]
    },
    {
     "data": {
      "text/html": [
       "<div>\n",
       "<style scoped>\n",
       "    .dataframe tbody tr th:only-of-type {\n",
       "        vertical-align: middle;\n",
       "    }\n",
       "\n",
       "    .dataframe tbody tr th {\n",
       "        vertical-align: top;\n",
       "    }\n",
       "\n",
       "    .dataframe thead th {\n",
       "        text-align: right;\n",
       "    }\n",
       "</style>\n",
       "<table border=\"1\" class=\"dataframe\">\n",
       "  <thead>\n",
       "    <tr style=\"text-align: right;\">\n",
       "      <th></th>\n",
       "      <th>sentiment</th>\n",
       "      <th>text</th>\n",
       "    </tr>\n",
       "  </thead>\n",
       "  <tbody>\n",
       "    <tr>\n",
       "      <th>count</th>\n",
       "      <td>4846</td>\n",
       "      <td>4846</td>\n",
       "    </tr>\n",
       "    <tr>\n",
       "      <th>unique</th>\n",
       "      <td>3</td>\n",
       "      <td>4838</td>\n",
       "    </tr>\n",
       "    <tr>\n",
       "      <th>top</th>\n",
       "      <td>neutral</td>\n",
       "      <td>Ahlstrom 's share is quoted on the NASDAQ OMX ...</td>\n",
       "    </tr>\n",
       "    <tr>\n",
       "      <th>freq</th>\n",
       "      <td>2879</td>\n",
       "      <td>2</td>\n",
       "    </tr>\n",
       "  </tbody>\n",
       "</table>\n",
       "</div>"
      ],
      "text/plain": [
       "       sentiment                                               text\n",
       "count       4846                                               4846\n",
       "unique         3                                               4838\n",
       "top      neutral  Ahlstrom 's share is quoted on the NASDAQ OMX ...\n",
       "freq        2879                                                  2"
      ]
     },
     "execution_count": 54,
     "metadata": {},
     "output_type": "execute_result"
    }
   ],
   "source": [
    "# Check for missing values in financial news\n",
    "print(\"\\nMissing values in financial news:\")\n",
    "print(financial_news.isnull().sum())\n",
    "\n",
    "# Basic statistics for financial news\n",
    "print(\"\\nBasic statistics for numeric columns (if any):\")\n",
    "financial_news.describe(include='all')"
   ]
  },
  {
   "cell_type": "code",
   "execution_count": 55,
   "id": "efbfd8b3",
   "metadata": {},
   "outputs": [
    {
     "data": {
      "image/png": "[encoded data removed]",
      "text/plain": [
       "<Figure size 1000x600 with 1 Axes>"
      ]
     },
     "metadata": {},
     "output_type": "display_data"
    }
   ],
   "source": [
    "if 'text' in financial_news.columns:\n",
    "    financial_news['text_length'] = financial_news['text'].str.len()\n",
    "    \n",
    "    plt.figure(figsize=(10, 6))\n",
    "    sns.histplot(financial_news['text_length'].dropna(), bins=50, kde=True)\n",
    "    plt.title('Distribution of News Article Lengths')\n",
    "    plt.xlabel('Character Count')\n",
    "    plt.ylabel('Frequency')\n",
    "    plt.show()"
   ]
  },
  {
   "cell_type": "code",
   "execution_count": 56,
   "id": "e9a15b58",
   "metadata": {},
   "outputs": [],
   "source": [
    "financial_news = financial_news.drop(columns=['text_length'])\n",
    "financial_news = financial_news.rename(columns={'sentiment': 'score'})\n",
    "financial_news = financial_news[['text', 'score']]"
   ]
  },
  {
   "cell_type": "code",
   "execution_count": 57,
   "id": "5aed0626",
   "metadata": {},
   "outputs": [
    {
     "name": "stdout",
     "output_type": "stream",
     "text": [
      "\n",
      "==== SUMMARY ====\n",
      "Book Reviews Dataset: 2999992 rows and 2 columns\n",
      "Financial News Dataset: 4846 rows and 2 columns\n"
     ]
    }
   ],
   "source": [
    "# Summary of findings\n",
    "print(\"\\n==== SUMMARY ====\")\n",
    "print(f\"Book Reviews Dataset: {book_reviews.shape[0]} rows and {book_reviews.shape[1]} columns\")\n",
    "print(f\"Financial News Dataset: {financial_news.shape[0]} rows and {financial_news.shape[1]} columns\")"
   ]
  },
  {
   "cell_type": "markdown",
   "id": "6ec858d8",
   "metadata": {},
   "source": [
    "# Next step:\n",
    "- Cleaning text data\n",
    "- Split train/val/test (70, 15, 15)\n",
    "- Apply the Text Extractor methods and models to evaluate result"
   ]
  },
  {
   "cell_type": "code",
   "execution_count": 58,
   "id": "625289e7",
   "metadata": {},
   "outputs": [],
   "source": [
    "# # In book_reviews data, sample a 1% of the data, keep the same distribution of the class\n",
    "# book_reviews_sample = book_reviews.groupby('score', group_keys=False).apply(lambda x: x.sample(frac=0.01, random_state=42))\n",
    "# book_reviews_sample = book_reviews_sample.reset_index(drop=True)\n",
    "# book_reviews_sample.to_csv('../data/raw/book_reviews/book_reviews_sample.csv', index=False, encoding='utf-8-sig', mode='w+')"
   ]
  },
  {
   "cell_type": "code",
   "execution_count": 59,
   "id": "70a8889c",
   "metadata": {},
   "outputs": [],
   "source": [
    "import string\n",
    "import re\n",
    "\n",
    "def preprocess_review(text):\n",
    "    \"\"\"Applies minimal preprocessing to review text.\"\"\"\n",
    "    if not isinstance(text, str):\n",
    "        return \"\" # Handle potential non-string inputs\n",
    "\n",
    "    # 1. Lowercase\n",
    "    text = text.lower()\n",
    "\n",
    "    # 2. Remove punctuation (replace with space) - Keep apostrophes if simple\n",
    "    translator = str.maketrans(string.punctuation, ' ' * len(string.punctuation))\n",
    "    text = text.translate(translator)\n",
    "\n",
    "    # 3. Normalize whitespace\n",
    "    text = re.sub(r'\\s+', ' ', text).strip()\n",
    "\n",
    "    return text"
   ]
  },
  {
   "cell_type": "code",
   "execution_count": 60,
   "id": "7dade6b2",
   "metadata": {},
   "outputs": [],
   "source": [
    "def preprocess_financial(text):\n",
    "    \"\"\"Applies minimal preprocessing to financial text.\"\"\"\n",
    "    if not isinstance(text, str):\n",
    "        return \"\"\n",
    "\n",
    "    # 1. Lowercase\n",
    "    text = text.lower()\n",
    "\n",
    "    # 2. Normalize whitespace\n",
    "    text = re.sub(r'\\s+', ' ', text).strip()\n",
    "\n",
    "    return text"
   ]
  },
  {
   "cell_type": "code",
   "execution_count": 61,
   "id": "2916d55a",
   "metadata": {},
   "outputs": [],
   "source": [
    "book_reviews['text'] = book_reviews['text'].apply(preprocess_review)\n",
    "financial_news['text'] = financial_news['text'].apply(preprocess_financial)"
   ]
  },
  {
   "cell_type": "code",
   "execution_count": 62,
   "id": "c3f01487",
   "metadata": {},
   "outputs": [
    {
     "name": "stderr",
     "output_type": "stream",
     "text": [
      "C:\\Users\\ORLab\\AppData\\Local\\Temp\\ipykernel_12076\\4262001868.py:2: DeprecationWarning: DataFrameGroupBy.apply operated on the grouping columns. This behavior is deprecated, and in a future version of pandas the grouping columns will be excluded from the operation. Either pass `include_groups=False` to exclude the groupings or explicitly select the grouping columns after groupby to silence this warning.\n",
      "  book_reviews = book_reviews.groupby('score', group_keys=False).apply(lambda x: x.sample(frac=0.25   , random_state=42))\n"
     ]
    }
   ],
   "source": [
    "# Keep only 30% of the book reviews data, keepin the same distribution of the class\n",
    "book_reviews = book_reviews.groupby('score', group_keys=False).apply(lambda x: x.sample(frac=0.25   , random_state=42)) "
   ]
  },
  {
   "cell_type": "code",
   "execution_count": 63,
   "id": "15bdfdf0",
   "metadata": {},
   "outputs": [],
   "source": [
    "from sklearn.model_selection import train_test_split\n",
    "\n",
    "book_reviews_train, book_reviews_test = train_test_split(book_reviews, test_size=0.3, random_state=42, stratify=book_reviews['score'])\n",
    "book_reviews_val, book_reviews_test = train_test_split(book_reviews_test, test_size=0.5, random_state=42, stratify=book_reviews_test['score'])\n",
    "\n",
    "financial_news_train, financial_news_test = train_test_split(financial_news, test_size=0.3, random_state=42, stratify=financial_news['score'])\n",
    "financial_news_val, financial_news_test = train_test_split(financial_news_test, test_size=0.5, random_state=42, stratify=financial_news_test['score'])\n",
    "\n",
    "book_reviews_train.to_csv('../data/processed/book_reviews/book_reviews_train.csv', index=False, encoding='utf-8-sig', mode='w+')\n",
    "book_reviews_val.to_csv('../data/processed/book_reviews/book_reviews_val.csv', index=False, encoding='utf-8-sig', mode='w+')\n",
    "book_reviews_test.to_csv('../data/processed/book_reviews/book_reviews_test.csv', index=False, encoding='utf-8-sig', mode='w+')\n",
    "\n",
    "financial_news_train.to_csv('../data/processed/financial_news/financial_news_train.csv', index=False, encoding='utf-8-sig', mode='w+')\n",
    "financial_news_val.to_csv('../data/processed/financial_news/financial_news_val.csv', index=False, encoding='utf-8-sig', mode='w+')\n",
    "financial_news_test.to_csv('../data/processed/financial_news/financial_news_test.csv', index=False, encoding='utf-8-sig', mode='w+')"
   ]
  }
 ],
 "metadata": {
  "kernelspec": {
   "display_name": "venv",
   "language": "python",
   "name": "python3"
  },
  "language_info": {
   "codemirror_mode": {
    "name": "ipython",
    "version": 3
   },
   "file_extension": ".py",
   "mimetype": "text/x-python",
   "name": "python",
   "nbconvert_exporter": "python",
   "pygments_lexer": "ipython3",
   "version": "3.12.8"
  }
 },
 "nbformat": 4,
 "nbformat_minor": 5
}
